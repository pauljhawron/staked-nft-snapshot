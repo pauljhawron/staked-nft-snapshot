{
 "cells": [
  {
   "cell_type": "markdown",
   "metadata": {},
   "source": [
    "# Importing Libraries"
   ]
  },
  {
   "cell_type": "code",
   "execution_count": 1,
   "metadata": {},
   "outputs": [],
   "source": [
    "import requests\n",
    "import json\n",
    "import time"
   ]
  },
  {
   "cell_type": "markdown",
   "metadata": {},
   "source": [
    "# Defining API Strings"
   ]
  },
  {
   "cell_type": "code",
   "execution_count": 2,
   "metadata": {},
   "outputs": [],
   "source": [
    "magic_eden_base_url = \"http://api-mainnet.magiceden.dev/v2\""
   ]
  },
  {
   "cell_type": "markdown",
   "metadata": {},
   "source": [
    "# Defining Functions"
   ]
  },
  {
   "cell_type": "markdown",
   "metadata": {},
   "source": [
    "## Floppy Labs"
   ]
  },
  {
   "cell_type": "markdown",
   "metadata": {},
   "source": [
    "### Get Token Metadata Function"
   ]
  },
  {
   "cell_type": "code",
   "execution_count": 3,
   "metadata": {},
   "outputs": [],
   "source": [
    "# Purpose: Gets information about an NFT\n",
    "# Accepts: NFT token address (\"67a7RcsvttpTjUN44iMcHwC4HMJSXcuPYAt4GaBaxXu6\")\n",
    "# Returns: NFT details\n",
    "\n",
    "def get_metadata_FL(token):\n",
    "    \n",
    "    endpoint = \"/tokens/{}\".format(token)\n",
    "    \n",
    "    querystring = {\"\":\"\"}\n",
    "    response = requests.get(magic_eden_base_url+endpoint, params=querystring)\n",
    "    \n",
    "    try:\n",
    "        response_json = response.json()\n",
    "    except:\n",
    "        return False, False, False, False\n",
    "    \n",
    "    is_2d_notvip = False \n",
    "    is_2d_vip = False\n",
    "    is_3d_silver = False\n",
    "    is_3d_gold = False\n",
    "    \n",
    "    if response_json['collection'] == 'the_whitelist_project':   \n",
    "        is_2d_notvip = response_json['attributes'][2]['value'] != 'VIP'\n",
    "        is_2d_vip = response_json['attributes'][2]['value'] == 'VIP'\n",
    "\n",
    "    elif response_json['collection'] == '3d_tickets':\n",
    "        is_3d_silver = response_json['attributes'][0]['value'] == 'Silver'\n",
    "        is_3d_gold = response_json['attributes'][0]['value'] == 'Gold'\n",
    "    \n",
    "    return is_2d_notvip, is_2d_vip, is_3d_silver, is_3d_gold"
   ]
  },
  {
   "cell_type": "markdown",
   "metadata": {},
   "source": [
    "### Load Snapshot Data"
   ]
  },
  {
   "cell_type": "code",
   "execution_count": 4,
   "metadata": {},
   "outputs": [],
   "source": [
    "with open('March31 snapshot two (03-13-23).json') as data:\n",
    "    snapshot = json.load(data)"
   ]
  },
  {
   "cell_type": "markdown",
   "metadata": {},
   "source": [
    "### Reformat JSON to dictionary"
   ]
  },
  {
   "cell_type": "code",
   "execution_count": 5,
   "metadata": {},
   "outputs": [],
   "source": [
    "snapshot_dict = {}\n",
    "\n",
    "for item in snapshot:\n",
    "    \n",
    "    staker = item['staker']\n",
    "    mint = item['mint']\n",
    "\n",
    "    if staker in snapshot_dict:\n",
    "        snapshot_dict[staker].append(mint)\n",
    "        \n",
    "    else:\n",
    "        snapshot_dict[staker] = [mint]"
   ]
  },
  {
   "cell_type": "markdown",
   "metadata": {},
   "source": [
    "### Iterate Through Snapshot and Get Metadata"
   ]
  },
  {
   "cell_type": "code",
   "execution_count": 7,
   "metadata": {
    "scrolled": true
   },
   "outputs": [
    {
     "name": "stdout",
     "output_type": "stream",
     "text": [
      "Wallet 2D_Not_VIP 2D_VIP 3D_Silver 3D_Gold\n",
      "Gq25vwag6GbF8CKAZ4S8uaeHVrujEM8n6U58oSJNQa3G 6 2 2 1\n",
      "CRDQcrker1kvxtatjLzjphCeonwno3iC5AJhyEDtU4x7 2 0 0 0\n",
      "7yZykj2ecizYh7L2TuMunumMk7qu61akGfB84eUX2gpL 1 0 1 0\n",
      "7zaAaKJDVjvHUYZgtLkEadG2A5uWXqoZTQucA6immxV3 14 6 0 0\n",
      "DrpsWmr8r7nEDWFjQzbVV58V35rUZWQn8xTeNXGYjkz5 0 0 2 0\n",
      "GWgmxJZjtNMyLLuMj7y8WESFT8BxXU8cmVnWSwYujxxe 22 8 18 11\n",
      "2X8B997NZWmyPnX1qb8xCExQxMCWwLJfiayz1QQWhfhf 1 0 1 0\n",
      "G95FBwR7C2T9pjRAELD1StJjFDCt4nB29BCoiWrnv4Hm 2 2 3 2\n",
      "FxKBHsKQQ96jkshWT1vWnAPCgSTXm12U8FA1YUidPh8b 1 0 3 0\n",
      "7Be3QWC3jFB5F4fcZRkP1oDGMqCAGcW2ghNAaM7Gajcf 17 1 1 0\n",
      "C7DkaqqEXcYfRA8UxKXBZHKbtEEc5ScHu8uG1iSJxXn1 5 0 2 1\n",
      "4JgVzQuiKSwgSPjFAjRCYrYZKtDHqhNS7hwyCzdsYV5r 4 2 0 0\n",
      "Frnkmo5hKaD9TnBs3gfQRLVbFpido7yCDN8XqHEFcLKR 0 0 0 0\n",
      "GURj7JzV8P6xVGqrtAkRdpA4GhbFDP7c4iDwtJfEYXSJ 24 1 15 5\n",
      "8PZWpd1Ub8TDbrVLuZvW38wAm6sHZaRMMNqYLhJt84sg 1 0 0 1\n",
      "GSGBvUNV9KTjf79Sthr9eKbz2NNcUNeYTt44sKWkqPFS 11 2 8 5\n",
      "56FSPYCAuUWC6N94v35H1bSnMkgnX7RBsRi3c5w987ah 4 0 2 0\n",
      "2cvuMPdq51kXkWGLzA32cmgRzVHhzR6NhMoj8aUxEbvv 2 0 0 0\n",
      "EeVRg2eqVo5Ce1u61EoGXdhyQDaYsXVrH1W7fZqsVFoE 2 0 0 0\n",
      "8TZH9527E2xqFY2BjNKGX87fZX4e8WNrm4yqAkHeksLw 3 0 1 0\n",
      "3MeFJZk7vAYRUCiUuV1KZwcZUwFEJPewmLzbyWGG9rkf 1 0 0 0\n",
      "AMdgJLYC4jsBEHL53AiGGobfnjoUWhec95PHUY52AycC 1 0 0 1\n",
      "BVwTgkq6twFthtEMgeWXYKVthKqDbKjEfRT9E4LRfu5W 1 0 0 0\n",
      "75Rz3KfcknGM1WRdJtUg84XZ79dhQhuWTXjC4oA5dSSo 2 0 0 0\n",
      "DtcQdfjkv3XS7RAZfEhegERc8NSrWKDURHfwRBhdV8yY 0 0 0 0\n",
      "B1PihjPxrAm68HoiQWVtYXLdnF5J1rW6gQs9F8EJXeFU 1 0 0 0\n",
      "DNei4hqsVx6rRys77VTk3W4jGcRVkRd9kfoAWmABEJEu 0 2 2 0\n",
      "2G8XKMU6juePyx5TrrE6NbPrXTaXp2Je3TBMsxU3QWzj 4 3 3 0\n",
      "31MieAKbgnaGM35FTPzcXuWrdPMKb7tVThLxRnVn65p2 0 0 0 0\n",
      "6J2A2uKqNjCssG6xqeA5fBmjjBF3WstTcAoeKR5kuxQE 1 0 1 0\n",
      "9jaSeK8DgaqMteVKUz7KBJQvesmYzRUaRKpEtFh5WYP3 2 0 1 1\n",
      "6n6p9jkR3Xs3F2MPFmivxQWhdDBrNyKvEc4TaR2HesbJ 0 0 1 0\n",
      "AxNbMsG5WZu91C3RNkBqwN9YYLpwVYFSEdKF5fevXjDd 0 0 1 1\n",
      "aR2LRbsdJGN5JXvCo8zi5DtsSzeuUrk63iGNbADxK8K 2 0 1 1\n",
      "5FC3btRmxZQzTZJ3c69AVmeLvBDLWVC1xyUnyEAi1QSL 1 0 0 1\n",
      "4JqjFmPUXMFaVQTFLnHemgkgWaQiCoR38FEyErRHKmaR 0 0 0 0\n",
      "4WJxxQn3VKFBaNzdiYygDLzfqByaVXWJWLg2AJTxoFN4 8 0 0 0\n",
      "6nizGrc957i8K9Wy31goZo4UdGPJuZriXXqgWPQofHU4 0 0 0 1\n",
      "eyNxy9HpHWHvy4bd5wzk7rR5d9LPyHCRqXRt3EG3dZg 1 0 0 0\n",
      "72mPfTix5widXaMT9Ag3JnhdzVi2F2BBrgSfx93px49Z 3 0 0 0\n",
      "HyUSe6jkFQi2tGLSzsWZY1uLktSmY6rfgvdRUS4677r3 2 0 0 0\n",
      "6chzr4HPnwYtb7qpchALUKvfh5YPyJjnpJFpHGrS2Eyg 1 0 0 0\n",
      "4mSEyq9zJ8zjQpYLeWGSysRnSdJMwPU9SaZB4YRKV3xG 0 0 1 0\n",
      "DsCeQutjfPc3UsDY9gHJ8uVQ8aJdtZpyquEViVVFVrri 1 0 0 1\n",
      "HJxuGCHuuSqLxqPKDEMQawktunxpSXUGXM6GdWS52xXo 0 3 1 0\n",
      "BxcjXxeQrjv8FGMPZ7SyX82JDNQKCA8CK6G3Wg5YTCAS 1 0 0 0\n",
      "6fc84RSXPi75U5UJ7uYwVEj4boS7nfrR1w6jaHH48RT9 0 0 0 0\n",
      "AiE1HRoH2kWMX7toGzcFVnzsTxJU9NzLehivBpkQ5uE9 1 1 0 0\n",
      "6NPUbVxW34vTovL1jdFaXXmrMF4bedLDRqN2LQdp5Ab4 2 1 1 1\n",
      "Ct8evmH4cbZDyt61xdxB77cZUhJ592o484Y4jqCjo1aE 1 1 0 0\n",
      "FnpcDpqTcus2HHW9gEypH4Y35fz7aJicAqKnzYpJb5dy 1 0 0 0\n",
      "CqxBXDfSEsFrvDfe7dEYy7H2iHiiZmvvM2pETv3KbAKh 1 0 0 0\n",
      "GhBj1vBM56aBFUNSnNHhbZHCjpSw3CVA3MERiRFGtCKk 2 0 1 1\n",
      "DvoigBobHfntFnS8spxH7tnNw8e3etwhNtftUG9fbMA8 1 0 0 1\n",
      "FS7tUGrd5h9wXceaXvTyxY4kxfCf7iYhZEiD1tzmNzf9 2 0 0 0\n",
      "D9C8BXwJDzrph3RAqdFFrd2ctWyTRM51k1Ydgx77cPui 0 0 0 0\n",
      "uYJQmPj1us26ukX88NeJa3UyyW6jTqQsSRUJ5HtbCak 1 0 0 1\n",
      "7EuRk48UADVTe4WtVBV8zC8NbaFaWAUFXoYP73Yn85A5 2 0 1 1\n",
      "7SveDUz6rcj5pp7yLgMHDeE4TR8WesBZ3ahMGJBM7rKy 1 0 0 0\n",
      "GNaXdgsYLxgvyNYRQ4jZMFDStr8M6NFZTmuq42L8hMub 1 0 0 0\n",
      "C4oM8b1EmPDokxHqE2muKvanCWaDJStdDtGVRqWa1pXG 1 1 0 0\n",
      "ANyGB4jjtagYJxw38QAcTCTBRiuau3KBo792bmek65dJ 1 0 1 0\n",
      "3yaX4JdHHptZfMzSUbQKREc3cCdmFw5qBhpzXnp8Ct8e 3 0 0 0\n",
      "GJNh3VpbsiLzM6FXrP81N4AJFWchvENwbAErmzpBw1SM 2 0 0 0\n",
      "J71SjkAZLAZVG3yutti9nQdGRcYnuYEQ86npbNMddnKE 0 0 0 0\n"
     ]
    }
   ],
   "source": [
    "print(\"Wallet\", \"2D_Not_VIP\", \"2D_VIP\", \"3D_Silver\", \"3D_Gold\")\n",
    "\n",
    "for key, values in snapshot_dict.items():\n",
    "        \n",
    "    if(isinstance(values, list)):\n",
    "        \n",
    "        num_2D_notvip = 0\n",
    "        num_2D_vip = 0\n",
    "        num_3D_silver = 0\n",
    "        num_3D_gold = 0\n",
    "        \n",
    "        for value in values:   \n",
    "            is_2d_notvip, is_2d_vip, is_3d_silver, is_3d_gold = get_metadata_FL(value)\n",
    "            \n",
    "            if is_2d_notvip:\n",
    "                num_2D_notvip += 1\n",
    "                \n",
    "            elif is_2d_vip:\n",
    "                num_2D_vip += 1\n",
    "                    \n",
    "            elif is_3d_silver:\n",
    "                num_3D_silver += 1\n",
    "                \n",
    "            elif is_3d_gold:\n",
    "                num_3D_gold += 1\n",
    "                \n",
    "            time.sleep(0.5)\n",
    "        \n",
    "        print(key, num_2D_notvip, num_2D_vip, num_3D_silver, num_3D_gold)\n",
    "\n",
    "    else:\n",
    "        print(value)"
   ]
  }
 ],
 "metadata": {
  "kernelspec": {
   "display_name": "Python 3",
   "language": "python",
   "name": "python3"
  },
  "language_info": {
   "codemirror_mode": {
    "name": "ipython",
    "version": 3
   },
   "file_extension": ".py",
   "mimetype": "text/x-python",
   "name": "python",
   "nbconvert_exporter": "python",
   "pygments_lexer": "ipython3",
   "version": "3.6.6"
  }
 },
 "nbformat": 4,
 "nbformat_minor": 2
}
